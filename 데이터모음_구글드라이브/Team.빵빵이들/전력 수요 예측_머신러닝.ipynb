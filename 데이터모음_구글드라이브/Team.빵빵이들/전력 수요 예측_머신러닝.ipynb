{
 "cells": [
  {
   "cell_type": "code",
   "execution_count": 1,
   "metadata": {},
   "outputs": [],
   "source": [
    "import pandas as pd\n",
    "import numpy as np\n",
    "\n",
    "import matplotlib.pyplot as plt\n",
    "import seaborn as sns\n",
    "\n",
    "import sklearn\n",
    "from sklearn import tree\n",
    "from sklearn.model_selection import GridSearchCV, train_test_split\n",
    "from sklearn.tree import DecisionTreeRegressor\n",
    "from sklearn.metrics import  mean_squared_error ,mean_absolute_percentage_error\n",
    "from sklearn.ensemble import RandomForestRegressor, VotingRegressor \n",
    "\n",
    "from sklearn.neural_network import MLPRegressor\n",
    "from sklearn.preprocessing import StandardScaler\n",
    "from sklearn.ensemble import StackingRegressor"
   ]
  },
  {
   "cell_type": "code",
   "execution_count": 2,
   "metadata": {},
   "outputs": [],
   "source": [
    "df = pd.read_csv('./data/df_power_combined.csv')"
   ]
  },
  {
   "cell_type": "code",
   "execution_count": 3,
   "metadata": {},
   "outputs": [],
   "source": [
    "aws = pd.read_csv('./data/2020_2022_aws.csv')\n",
    "aws_1 = aws[aws['지점명']=='기상청']\n",
    "aws_1['일시'] = pd.to_datetime(aws_1['일시'])\n",
    "aws_1['연'] = aws_1['일시'].dt.year\n",
    "aws_1['월'] = aws_1['일시'].dt.month\n",
    "aws_1['일'] = aws_1['일시'].dt.day"
   ]
  },
  {
   "cell_type": "code",
   "execution_count": 8,
   "metadata": {},
   "outputs": [],
   "source": [
    "aws_2 = aws_1.drop(['일시','지점명'], axis=1).groupby(['연','월','일']).mean()\n",
    "aws3 = aws_2.reset_index()\n",
    "aws4 = aws3[['연', '월', '일', '기온(°C)', '풍향(deg)', '풍속(m/s)', '강수량(mm)','습도(%)']]\n",
    "\n",
    "df['기준일시'] = pd.to_datetime(df['기준일시'])\n",
    "df['연'] = df['기준일시'].dt.year\n",
    "df['월'] = df['기준일시'].dt.month\n",
    "df['일'] = df['기준일시'].dt.day\n",
    "\n",
    "df_e = df.drop(['기준일시'], axis=1).groupby(['연','월','일']).sum()\n",
    "df_e_1 = df_e.reset_index()\n",
    "df_e_2 = df_e_1[['연','월','일','현재수요(MW)']]\n",
    "total = pd.merge(aws4,df_e_2,on=['연','월','일'])"
   ]
  },
  {
   "cell_type": "code",
   "execution_count": 51,
   "metadata": {},
   "outputs": [],
   "source": [
    "def DT_anaytics(X_train, X_test,y_train, y_test):    \n",
    "    DT = DecisionTreeRegressor()\n",
    "    params = {'max_depth': [5], 'min_samples_split': [100, 1000, 10000, 100000]}\n",
    "    DT_search = GridSearchCV(DT, params, cv=5, scoring='neg_mean_squared_error')\n",
    "    DT_search.fit(X_train,y_train)\n",
    "    best_clf = DT_search.best_estimator_\n",
    "    y_pred = DT_search.predict(X_test)\n",
    "    rmse = np.sqrt(mean_squared_error(y_test, y_pred))\n",
    "    mse = mean_squared_error(y_test, y_pred)\n",
    "# Calculate MAPE\n",
    "    mape= mean_absolute_percentage_error(y_test, y_pred)\n",
    "    print(f'''\n",
    "rmse for Decision Tree :{rmse}\n",
    "mse for Decision Tree :{mse}\n",
    "mape for Decision Tree :{mape}\n",
    "''')\n",
    "\n",
    "def RF_anaytics(X_train, X_test,y_train, y_test):    \n",
    "    rfc = RandomForestRegressor(max_depth=20, random_state=24)\n",
    "    rfc.fit(X_train,y_train)\n",
    "    y_pred = rfc.predict(X_test)\n",
    "    rmse = np.sqrt(mean_squared_error(y_test, y_pred))\n",
    "    mse = mean_squared_error(y_test, y_pred)\n",
    "    mape= mean_absolute_percentage_error(y_test, y_pred)\n",
    "    print(f'''\n",
    "rmse for RF_anaytics :{rmse}\n",
    "mse for RF_anaytics :{mse}\n",
    "mape for Decision Tree :{mape}\n",
    "''')\n",
    "\n",
    "\n",
    "def MLP_anaytics(X_train, X_test,y_train, y_test): \n",
    "# Create the MLPRegressor with 3 hidden layers, 1500 iterations, and 30% dropout\n",
    "    regr = MLPRegressor(hidden_layer_sizes=(100, 100, 100), max_iter=1500, random_state=42, alpha=0.03)\n",
    "    regr.fit(X_train, y_train)\n",
    "    regr.predict(X_test)\n",
    "    y_pred = regr.predict(X_test)\n",
    "    rmse = np.sqrt(mean_squared_error(y_test, y_pred))\n",
    "    mse = mean_squared_error(y_test, y_pred)\n",
    "    mape= mean_absolute_percentage_error(y_test, y_pred)\n",
    "    print(f'''\n",
    "rmse for MLP_anaytics :{rmse}\n",
    "mse for MLP_anaytics :{mse}\n",
    "mape for MLP_anaytics :{mape}\n",
    "''')\n",
    "    \n",
    "    \n",
    "def ensemble(X_train, X_test, y_train, y_test):\n",
    "    # Individual regressors\n",
    "    rf_regressor = RandomForestRegressor(max_depth=20, random_state=24)\n",
    "    mlp_regressor = MLPRegressor(hidden_layer_sizes=(100, 100, 100), max_iter=1500, random_state=42, alpha=0.03)\n",
    "\n",
    "    # Ensemble regressor\n",
    "    ensemble_regressor = VotingRegressor(estimators=[\n",
    "        ('rf', rf_regressor),\n",
    "        ('mlp', mlp_regressor)\n",
    "    ])\n",
    "\n",
    "    ensemble_regressor.fit(X_train, y_train)\n",
    "    y_pred = ensemble_regressor.predict(X_test)\n",
    "    rmse = np.sqrt(mean_squared_error(y_test, y_pred))\n",
    "    mse = mean_squared_error(y_test, y_pred)\n",
    "    mape = mean_absolute_percentage_error(y_test, y_pred)\n",
    "    print(f'''\n",
    "rmse for Ensemble :{rmse}\n",
    "mse for Ensemble :{mse}\n",
    "mape for Ensemble :{mape}\n",
    "''')"
   ]
  },
  {
   "cell_type": "code",
   "execution_count": 54,
   "metadata": {},
   "outputs": [
    {
     "name": "stdout",
     "output_type": "stream",
     "text": [
      "\n",
      "rmse for Decision Tree :1694332.0303341905\n",
      "mse for Decision Tree :2870761029016.38\n",
      "mape for Decision Tree :0.07479417837955243\n",
      "\n",
      "\n",
      "rmse for RF_anaytics :1622366.0676180415\n",
      "mse for RF_anaytics :2632071657358.4277\n",
      "mape for Decision Tree :0.07030907073297123\n",
      "\n"
     ]
    },
    {
     "name": "stderr",
     "output_type": "stream",
     "text": [
      "c:\\Users\\User\\anaconda3\\envs\\DM\\Lib\\site-packages\\sklearn\\neural_network\\_multilayer_perceptron.py:691: ConvergenceWarning: Stochastic Optimizer: Maximum iterations (1500) reached and the optimization hasn't converged yet.\n",
      "  warnings.warn(\n"
     ]
    },
    {
     "name": "stdout",
     "output_type": "stream",
     "text": [
      "\n",
      "rmse for MLP_anaytics :1621178.919023986\n",
      "mse for MLP_anaytics :2628221087487.7793\n",
      "mape for MLP_anaytics :0.07188321964978714\n",
      "\n"
     ]
    },
    {
     "name": "stderr",
     "output_type": "stream",
     "text": [
      "c:\\Users\\User\\anaconda3\\envs\\DM\\Lib\\site-packages\\sklearn\\neural_network\\_multilayer_perceptron.py:691: ConvergenceWarning: Stochastic Optimizer: Maximum iterations (1500) reached and the optimization hasn't converged yet.\n",
      "  warnings.warn(\n"
     ]
    },
    {
     "name": "stdout",
     "output_type": "stream",
     "text": [
      "\n",
      "rmse for Ensemble :1566156.4016793799\n",
      "mse for Ensemble :2452845874521.303\n",
      "mape for Ensemble :0.06883718497499088\n",
      "\n"
     ]
    },
    {
     "name": "stderr",
     "output_type": "stream",
     "text": [
      "c:\\Users\\User\\anaconda3\\envs\\DM\\Lib\\site-packages\\sklearn\\neural_network\\_multilayer_perceptron.py:691: ConvergenceWarning: Stochastic Optimizer: Maximum iterations (1000) reached and the optimization hasn't converged yet.\n",
      "  warnings.warn(\n",
      "c:\\Users\\User\\anaconda3\\envs\\DM\\Lib\\site-packages\\sklearn\\neural_network\\_multilayer_perceptron.py:691: ConvergenceWarning: Stochastic Optimizer: Maximum iterations (1000) reached and the optimization hasn't converged yet.\n",
      "  warnings.warn(\n",
      "c:\\Users\\User\\anaconda3\\envs\\DM\\Lib\\site-packages\\sklearn\\neural_network\\_multilayer_perceptron.py:691: ConvergenceWarning: Stochastic Optimizer: Maximum iterations (1000) reached and the optimization hasn't converged yet.\n",
      "  warnings.warn(\n",
      "c:\\Users\\User\\anaconda3\\envs\\DM\\Lib\\site-packages\\sklearn\\neural_network\\_multilayer_perceptron.py:691: ConvergenceWarning: Stochastic Optimizer: Maximum iterations (1000) reached and the optimization hasn't converged yet.\n",
      "  warnings.warn(\n",
      "c:\\Users\\User\\anaconda3\\envs\\DM\\Lib\\site-packages\\sklearn\\neural_network\\_multilayer_perceptron.py:691: ConvergenceWarning: Stochastic Optimizer: Maximum iterations (1000) reached and the optimization hasn't converged yet.\n",
      "  warnings.warn(\n"
     ]
    },
    {
     "name": "stdout",
     "output_type": "stream",
     "text": [
      "\n",
      "rmse for Stacking Ensemble :1551713.906707376\n",
      "mse for Stacking Ensemble :2407816048269.0674\n",
      "mape for Stacking Ensemble :0.0674778548400263\n",
      "\n"
     ]
    }
   ],
   "source": [
    "total_1 = total[['기온(°C)', '풍향(deg)', '풍속(m/s)', '강수량(mm)', '습도(%)','현재수요(MW)']].dropna()\n",
    "\n",
    "X_train, X_test, y_train, y_test = train_test_split(total_1.drop('현재수요(MW)', axis=1),total_1['현재수요(MW)'], random_state= 24)\n",
    "# Create a StandardScaler object\n",
    "scaler = StandardScaler()\n",
    "# Fit the scaler on your data and transform it\n",
    "X_train = scaler.fit_transform(X_train)\n",
    "X_test = scaler.fit_transform(X_test)\n",
    "\n",
    "DT_anaytics(X_train, X_test,y_train, y_test)\n",
    "RF_anaytics(X_train, X_test,y_train, y_test)\n",
    "MLP_anaytics(X_train, X_test,y_train, y_test)\n",
    "ensemble(X_train, X_test,y_train, y_test)"
   ]
  }
 ],
 "metadata": {
  "kernelspec": {
   "display_name": "DM",
   "language": "python",
   "name": "python3"
  },
  "language_info": {
   "codemirror_mode": {
    "name": "ipython",
    "version": 3
   },
   "file_extension": ".py",
   "mimetype": "text/x-python",
   "name": "python",
   "nbconvert_exporter": "python",
   "pygments_lexer": "ipython3",
   "version": "3.11.5"
  }
 },
 "nbformat": 4,
 "nbformat_minor": 2
}
